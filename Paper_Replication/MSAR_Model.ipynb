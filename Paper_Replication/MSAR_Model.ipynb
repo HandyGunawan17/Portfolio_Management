{
  "nbformat": 4,
  "nbformat_minor": 0,
  "metadata": {
    "colab": {
      "name": "MSAR Model.ipynb",
      "provenance": [],
      "collapsed_sections": [],
      "authorship_tag": "ABX9TyMrdgldA2vLWlOF1Q666TVh",
      "include_colab_link": true
    },
    "kernelspec": {
      "name": "python3",
      "display_name": "Python 3"
    },
    "language_info": {
      "name": "python"
    }
  },
  "cells": [
    {
      "cell_type": "markdown",
      "metadata": {
        "id": "view-in-github",
        "colab_type": "text"
      },
      "source": [
        "<a href=\"https://colab.research.google.com/github/HandyGunawan17/Portfolio_Management/blob/main/Paper_Replication/MSAR_Model.ipynb\" target=\"_parent\"><img src=\"https://colab.research.google.com/assets/colab-badge.svg\" alt=\"Open In Colab\"/></a>"
      ]
    },
    {
      "cell_type": "code",
      "metadata": {
        "id": "ienk5vNbWIUF"
      },
      "source": [
        ""
      ],
      "execution_count": null,
      "outputs": []
    },
    {
      "cell_type": "markdown",
      "metadata": {
        "id": "zehIJnjqmaK9"
      },
      "source": [
        "The first code of the series of Markov Switching autoregressive model.\n",
        "\n",
        "This code studies and replicate statsmodel Markov Switching (MS) Autoregressive (AR) model."
      ]
    },
    {
      "cell_type": "markdown",
      "metadata": {
        "id": "s4GExOwwrOPs"
      },
      "source": [
        "It Consists of Markov Switching Model, Markov Regression and finally Markov_auto Regression\n",
        "\n",
        " # First, we do the MArkov Switching."
      ]
    },
    {
      "cell_type": "code",
      "metadata": {
        "id": "YlV28KlwnrM4"
      },
      "source": [
        "import warnings\n",
        "\n",
        "import numpy as np\n",
        "import pandas as pd\n",
        "from scipy.special import logsumexp\n",
        "\n",
        "# ! pip install --upgrade Cython\n",
        "# ! pip install --upgrade git+https://github.com/statsmodels/statsmodels\n",
        "\n",
        "from statsmodels.tools.tools import Bunch\n",
        "from statsmodels.tools.numdiff import approx_fprime_cs, approx_hess_cs\n",
        "from statsmodels.tools.decorators import cache_readonly\n",
        "from statsmodels.tools.eval_measures import aic, bic, hqic\n",
        "from statsmodels.tools.tools import pinv_extended\n",
        "from statsmodels.tools.sm_exceptions import EstimationWarning\n",
        "\n",
        "import statsmodels.base.wrapper as wrap\n",
        "from statsmodels.base.data import PandasData\n",
        "\n",
        "import statsmodels.tsa.base.tsa_model as tsbase\n",
        "from statsmodels.tsa.statespace.tools import find_best_blas_type, prepare_exog\n",
        "\n",
        "from statsmodels.tsa.regime_switching._hamilton_filter import (\n",
        "    shamilton_filter_log, dhamilton_filter_log, chamilton_filter_log,\n",
        "    zhamilton_filter_log)\n",
        "from statsmodels.tsa.regime_switching._kim_smoother import (\n",
        "    skim_smoother_log, dkim_smoother_log, ckim_smoother_log, zkim_smoother_log)\n",
        "\n",
        "prefix_hamilton_filter_log_map = {\n",
        "    's': shamilton_filter_log, 'd': dhamilton_filter_log,\n",
        "    'c': chamilton_filter_log, 'z': zhamilton_filter_log\n",
        "}\n",
        "\n",
        "prefix_kim_smoother_log_map = {\n",
        "    's': skim_smoother_log, 'd': dkim_smoother_log,\n",
        "    'c': ckim_smoother_log, 'z': zkim_smoother_log\n",
        "}\n"
      ],
      "execution_count": 1,
      "outputs": []
    },
    {
      "cell_type": "code",
      "metadata": {
        "id": "9JlShHHaq1Sd"
      },
      "source": [
        "def _logistic(x):\n",
        "    \"\"\"\n",
        "    Note that this is not a vectorized function\n",
        "    \"\"\"\n",
        "    x = np.array(x)\n",
        "    # np.exp(x) / (1 + np.exp(x))\n",
        "    if x.ndim == 0:\n",
        "        y = np.reshape(x, (1, 1, 1))\n",
        "    # np.exp(x[i]) / (1 + np.sum(np.exp(x[:])))\n",
        "    elif x.ndim == 1:\n",
        "        y = np.reshape(x, (len(x), 1, 1))\n",
        "    # np.exp(x[i,t]) / (1 + np.sum(np.exp(x[:,t])))\n",
        "    elif x.ndim == 2:\n",
        "        y = np.reshape(x, (x.shape[0], 1, x.shape[1]))\n",
        "    # np.exp(x[i,j,t]) / (1 + np.sum(np.exp(x[:,j,t])))\n",
        "    elif x.ndim == 3:\n",
        "        y = x\n",
        "    else:\n",
        "        raise NotImplementedError\n",
        "\n",
        "    tmp = np.c_[np.zeros((y.shape[-1], y.shape[1], 1)), y.T].T\n",
        "    print(tmp)\n",
        "    print(y)\n",
        "    evaluated = np.reshape(np.exp(y - logsumexp(tmp, axis=0)), x.shape)\n",
        "\n",
        "    return evaluated"
      ],
      "execution_count": 28,
      "outputs": []
    },
    {
      "cell_type": "code",
      "metadata": {
        "colab": {
          "base_uri": "https://localhost:8080/"
        },
        "id": "H-sPzCBvsehL",
        "outputId": "b75ae760-1399-4c15-a254-50a7c16c8f86"
      },
      "source": [
        ""
      ],
      "execution_count": 23,
      "outputs": [
        {
          "output_type": "execute_result",
          "data": {
            "text/plain": [
              "(1.6094379124341005, 1.6094379124341003)"
            ]
          },
          "metadata": {
            "tags": []
          },
          "execution_count": 23
        }
      ]
    }
  ]
}